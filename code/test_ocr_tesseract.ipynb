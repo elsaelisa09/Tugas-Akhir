{
 "cells": [
  {
   "cell_type": "code",
   "execution_count": 1,
   "id": "54d9a7e6",
   "metadata": {},
   "outputs": [
    {
     "name": "stdout",
     "output_type": "stream",
     "text": [
      "\n",
      "===== Hasil OCR =====\n",
      "US!\n",
      "THEPOLISH/AND LYN\n",
      "5 ORLD'S BIGGEST.VILLAII\n",
      "\n"
     ]
    }
   ],
   "source": [
    "import pytesseract\n",
    "from PIL import Image\n",
    "\n",
    "pytesseract.pytesseract.tesseract_cmd = r\"C:\\Users\\elsae\\AppData\\Local\\Programs\\Tesseract-OCR\\tesseract.exe\"\n",
    "\n",
    "# Path gambar\n",
    "image_path = \"../sample_dataset/image_2038.jpg\"\n",
    "\n",
    "try:\n",
    "    # Membuka gambar\n",
    "    img = Image.open(image_path)\n",
    "\n",
    "    # Melakukan OCR\n",
    "    hasil_ocr = pytesseract.image_to_string(img, lang='eng')  # ganti 'eng' ke 'ind' untuk bahasa Indonesia\n",
    "\n",
    "    print(\"\\n===== Hasil OCR =====\")\n",
    "    print(hasil_ocr)\n",
    "\n",
    "except FileNotFoundError:\n",
    "    print(f\"Gambar '{image_path}' tidak ditemukan. Pastikan path benar.\")\n",
    "except Exception as e:\n",
    "    print(f\"Terjadi kesalahan: {e}\")\n"
   ]
  }
 ],
 "metadata": {
  "kernelspec": {
   "display_name": "tugasakhir",
   "language": "python",
   "name": "python3"
  },
  "language_info": {
   "codemirror_mode": {
    "name": "ipython",
    "version": 3
   },
   "file_extension": ".py",
   "mimetype": "text/x-python",
   "name": "python",
   "nbconvert_exporter": "python",
   "pygments_lexer": "ipython3",
   "version": "3.10.18"
  }
 },
 "nbformat": 4,
 "nbformat_minor": 5
}
