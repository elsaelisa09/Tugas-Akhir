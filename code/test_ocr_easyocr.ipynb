{
 "cells": [
  {
   "cell_type": "code",
   "execution_count": 2,
   "id": "ad2f4c09",
   "metadata": {},
   "outputs": [
    {
     "name": "stderr",
     "output_type": "stream",
     "text": [
      "Neither CUDA nor MPS are available - defaulting to CPU. Note: This module is much faster with a GPU.\n",
      "Downloading detection model, please wait. This may take several minutes depending upon your network connection.\n"
     ]
    },
    {
     "name": "stdout",
     "output_type": "stream",
     "text": [
      "Progress: |██████████████████████████████████████████████████| 100.0% Complete"
     ]
    },
    {
     "name": "stderr",
     "output_type": "stream",
     "text": [
      "Downloading recognition model, please wait. This may take several minutes depending upon your network connection.\n"
     ]
    },
    {
     "name": "stdout",
     "output_type": "stream",
     "text": [
      "Progress: |██████████████████████████████████████████████████| 100.0% Complete"
     ]
    },
    {
     "name": "stderr",
     "output_type": "stream",
     "text": [
      "c:\\Users\\elsae\\miniconda3\\envs\\tugasakhir\\lib\\site-packages\\torch\\utils\\data\\dataloader.py:666: UserWarning: 'pin_memory' argument is set as true but no accelerator is found, then device pinned memory won't be used.\n",
      "  warnings.warn(warn_msg)\n"
     ]
    },
    {
     "name": "stdout",
     "output_type": "stream",
     "text": [
      "\n",
      "===== Hasil OCR =====\n",
      "WOMEN USE CHEMICALS T0 REMOVE POSH\n",
      "EVERYDAY AND NO ONE BATS ANEYE\n",
      "QOSECHEMICALS TO REMOVE\n",
      "THEPOLISHAND SUDDENLY UM\n",
      "THHEWVORLDS BIGGEST VILLAIM\n"
     ]
    }
   ],
   "source": [
    "import easyocr\n",
    "import os\n",
    "\n",
    "# Path gambar\n",
    "image_path = \"../sample_dataset/image_2038.jpg\"\n",
    "\n",
    "try:\n",
    "    if not os.path.exists(image_path):\n",
    "        raise FileNotFoundError\n",
    "\n",
    "    \n",
    "    reader = easyocr.Reader(['en'])  \n",
    "\n",
    "    # Melakukan OCR\n",
    "    hasil_ocr = reader.readtext(image_path, detail=0)  \n",
    "\n",
    "    print(\"\\n===== Hasil OCR =====\")\n",
    "    for teks in hasil_ocr:\n",
    "        print(teks)\n",
    "\n",
    "except FileNotFoundError:\n",
    "    print(f\"Gambar '{image_path}' tidak ditemukan. Pastikan path benar.\")\n",
    "except Exception as e:\n",
    "    print(f\"Terjadi kesalahan: {e}\")\n"
   ]
  },
  {
   "cell_type": "code",
   "execution_count": 8,
   "id": "6dbefb60",
   "metadata": {},
   "outputs": [
    {
     "name": "stderr",
     "output_type": "stream",
     "text": [
      "Neither CUDA nor MPS are available - defaulting to CPU. Note: This module is much faster with a GPU.\n",
      "c:\\Users\\elsae\\miniconda3\\envs\\tugasakhir\\lib\\site-packages\\torch\\utils\\data\\dataloader.py:666: UserWarning: 'pin_memory' argument is set as true but no accelerator is found, then device pinned memory won't be used.\n",
      "  warnings.warn(warn_msg)\n"
     ]
    },
    {
     "name": "stdout",
     "output_type": "stream",
     "text": [
      "\n",
      "===== Hasil OCR =====\n",
      "WOMEN USE CHEMICALS T0 REMOVE POSH\n",
      "EVERYDAY AND NO ONE BATS ANEYE\n",
      "QOSECHEMICALS TO REMOVE\n",
      "THEPOLISHAND SUDDENLY UM\n",
      "THHEWVORLDS BIGGEST VILLAIM\n"
     ]
    }
   ],
   "source": [
    "import easyocr\n",
    "import os\n",
    "\n",
    "# Path gambar\n",
    "image_path = \"../sample_dataset/image_2038.jpg\"\n",
    "\n",
    "try:\n",
    "    if not os.path.exists(image_path):\n",
    "        raise FileNotFoundError\n",
    "\n",
    "    \n",
    "    reader = easyocr.Reader(['en'])  \n",
    "\n",
    "    # Melakukan OCR\n",
    "    hasil_ocr = reader.readtext(image_path, detail=0)  \n",
    "\n",
    "    print(\"\\n===== Hasil OCR =====\")\n",
    "    for teks in hasil_ocr:\n",
    "        print(teks)\n",
    "\n",
    "except FileNotFoundError:\n",
    "    print(f\"Gambar '{image_path}' tidak ditemukan. Pastikan path benar.\")\n",
    "except Exception as e:\n",
    "    print(f\"Terjadi kesalahan: {e}\")\n"
   ]
  }
 ],
 "metadata": {
  "kernelspec": {
   "display_name": "tugasakhir",
   "language": "python",
   "name": "python3"
  },
  "language_info": {
   "codemirror_mode": {
    "name": "ipython",
    "version": 3
   },
   "file_extension": ".py",
   "mimetype": "text/x-python",
   "name": "python",
   "nbconvert_exporter": "python",
   "pygments_lexer": "ipython3",
   "version": "3.10.18"
  }
 },
 "nbformat": 4,
 "nbformat_minor": 5
}
