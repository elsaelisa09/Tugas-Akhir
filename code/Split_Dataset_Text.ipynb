{
  "nbformat": 4,
  "nbformat_minor": 0,
  "metadata": {
    "colab": {
      "provenance": [],
      "gpuType": "T4"
    },
    "kernelspec": {
      "name": "python3",
      "display_name": "Python 3"
    },
    "language_info": {
      "name": "python"
    },
    "accelerator": "GPU"
  },
  "cells": [
    {
      "cell_type": "markdown",
      "source": [
        "# Load Dataset"
      ],
      "metadata": {
        "id": "sIOqMYQLh08c"
      }
    },
    {
      "cell_type": "code",
      "source": [
        "from google.colab import drive\n",
        "drive.mount('/content/drive')\n",
        "import pandas as pd\n",
        "\n",
        "# Path di Google Drive\n",
        "dataset_path = '/content/drive/MyDrive/TugasAkhirElsa/Suicidal Ideation Detection Reddit Dataset-Version 2.csv'\n",
        "\n",
        "df = pd.read_csv(dataset_path)\n",
        "df.head()"
      ],
      "metadata": {
        "colab": {
          "base_uri": "https://localhost:8080/",
          "height": 223
        },
        "id": "HM8yy1i_FnTV",
        "outputId": "3899e0aa-ad29-4b98-b3cd-35d27b226861"
      },
      "execution_count": 7,
      "outputs": [
        {
          "output_type": "stream",
          "name": "stdout",
          "text": [
            "Drive already mounted at /content/drive; to attempt to forcibly remount, call drive.mount(\"/content/drive\", force_remount=True).\n"
          ]
        },
        {
          "output_type": "execute_result",
          "data": {
            "text/plain": [
              "                                               Title  \\\n",
              "0  I'm looking for a girl I've met at the Polish ...   \n",
              "1    I got a guy kicked off a domestic flight today.   \n",
              "2  My youngest got in school suspension, I’m so p...   \n",
              "3  I'm a cashier who switched from \"sir/mam\" to \"...   \n",
              "4  My whole class complimented me and didn’t real...   \n",
              "\n",
              "                                                Post         Label  \n",
              "0  I've tried Polish spotted pages but I guess sh...  Non-Suicidal  \n",
              "1  I was in a forward row as we were boarding for...  Non-Suicidal  \n",
              "2  So according to witness testimonies a boy grab...  Non-Suicidal  \n",
              "3  So as said in the title, I'm a cashier (well, ...  Non-Suicidal  \n",
              "4  Today in class, we were doing this activity ca...  Non-Suicidal  "
            ],
            "text/html": [
              "\n",
              "  <div id=\"df-b34dd59c-fb4a-4dae-802b-aa73b52ff1bb\" class=\"colab-df-container\">\n",
              "    <div>\n",
              "<style scoped>\n",
              "    .dataframe tbody tr th:only-of-type {\n",
              "        vertical-align: middle;\n",
              "    }\n",
              "\n",
              "    .dataframe tbody tr th {\n",
              "        vertical-align: top;\n",
              "    }\n",
              "\n",
              "    .dataframe thead th {\n",
              "        text-align: right;\n",
              "    }\n",
              "</style>\n",
              "<table border=\"1\" class=\"dataframe\">\n",
              "  <thead>\n",
              "    <tr style=\"text-align: right;\">\n",
              "      <th></th>\n",
              "      <th>Title</th>\n",
              "      <th>Post</th>\n",
              "      <th>Label</th>\n",
              "    </tr>\n",
              "  </thead>\n",
              "  <tbody>\n",
              "    <tr>\n",
              "      <th>0</th>\n",
              "      <td>I'm looking for a girl I've met at the Polish ...</td>\n",
              "      <td>I've tried Polish spotted pages but I guess sh...</td>\n",
              "      <td>Non-Suicidal</td>\n",
              "    </tr>\n",
              "    <tr>\n",
              "      <th>1</th>\n",
              "      <td>I got a guy kicked off a domestic flight today.</td>\n",
              "      <td>I was in a forward row as we were boarding for...</td>\n",
              "      <td>Non-Suicidal</td>\n",
              "    </tr>\n",
              "    <tr>\n",
              "      <th>2</th>\n",
              "      <td>My youngest got in school suspension, I’m so p...</td>\n",
              "      <td>So according to witness testimonies a boy grab...</td>\n",
              "      <td>Non-Suicidal</td>\n",
              "    </tr>\n",
              "    <tr>\n",
              "      <th>3</th>\n",
              "      <td>I'm a cashier who switched from \"sir/mam\" to \"...</td>\n",
              "      <td>So as said in the title, I'm a cashier (well, ...</td>\n",
              "      <td>Non-Suicidal</td>\n",
              "    </tr>\n",
              "    <tr>\n",
              "      <th>4</th>\n",
              "      <td>My whole class complimented me and didn’t real...</td>\n",
              "      <td>Today in class, we were doing this activity ca...</td>\n",
              "      <td>Non-Suicidal</td>\n",
              "    </tr>\n",
              "  </tbody>\n",
              "</table>\n",
              "</div>\n",
              "    <div class=\"colab-df-buttons\">\n",
              "\n",
              "  <div class=\"colab-df-container\">\n",
              "    <button class=\"colab-df-convert\" onclick=\"convertToInteractive('df-b34dd59c-fb4a-4dae-802b-aa73b52ff1bb')\"\n",
              "            title=\"Convert this dataframe to an interactive table.\"\n",
              "            style=\"display:none;\">\n",
              "\n",
              "  <svg xmlns=\"http://www.w3.org/2000/svg\" height=\"24px\" viewBox=\"0 -960 960 960\">\n",
              "    <path d=\"M120-120v-720h720v720H120Zm60-500h600v-160H180v160Zm220 220h160v-160H400v160Zm0 220h160v-160H400v160ZM180-400h160v-160H180v160Zm440 0h160v-160H620v160ZM180-180h160v-160H180v160Zm440 0h160v-160H620v160Z\"/>\n",
              "  </svg>\n",
              "    </button>\n",
              "\n",
              "  <style>\n",
              "    .colab-df-container {\n",
              "      display:flex;\n",
              "      gap: 12px;\n",
              "    }\n",
              "\n",
              "    .colab-df-convert {\n",
              "      background-color: #E8F0FE;\n",
              "      border: none;\n",
              "      border-radius: 50%;\n",
              "      cursor: pointer;\n",
              "      display: none;\n",
              "      fill: #1967D2;\n",
              "      height: 32px;\n",
              "      padding: 0 0 0 0;\n",
              "      width: 32px;\n",
              "    }\n",
              "\n",
              "    .colab-df-convert:hover {\n",
              "      background-color: #E2EBFA;\n",
              "      box-shadow: 0px 1px 2px rgba(60, 64, 67, 0.3), 0px 1px 3px 1px rgba(60, 64, 67, 0.15);\n",
              "      fill: #174EA6;\n",
              "    }\n",
              "\n",
              "    .colab-df-buttons div {\n",
              "      margin-bottom: 4px;\n",
              "    }\n",
              "\n",
              "    [theme=dark] .colab-df-convert {\n",
              "      background-color: #3B4455;\n",
              "      fill: #D2E3FC;\n",
              "    }\n",
              "\n",
              "    [theme=dark] .colab-df-convert:hover {\n",
              "      background-color: #434B5C;\n",
              "      box-shadow: 0px 1px 3px 1px rgba(0, 0, 0, 0.15);\n",
              "      filter: drop-shadow(0px 1px 2px rgba(0, 0, 0, 0.3));\n",
              "      fill: #FFFFFF;\n",
              "    }\n",
              "  </style>\n",
              "\n",
              "    <script>\n",
              "      const buttonEl =\n",
              "        document.querySelector('#df-b34dd59c-fb4a-4dae-802b-aa73b52ff1bb button.colab-df-convert');\n",
              "      buttonEl.style.display =\n",
              "        google.colab.kernel.accessAllowed ? 'block' : 'none';\n",
              "\n",
              "      async function convertToInteractive(key) {\n",
              "        const element = document.querySelector('#df-b34dd59c-fb4a-4dae-802b-aa73b52ff1bb');\n",
              "        const dataTable =\n",
              "          await google.colab.kernel.invokeFunction('convertToInteractive',\n",
              "                                                    [key], {});\n",
              "        if (!dataTable) return;\n",
              "\n",
              "        const docLinkHtml = 'Like what you see? Visit the ' +\n",
              "          '<a target=\"_blank\" href=https://colab.research.google.com/notebooks/data_table.ipynb>data table notebook</a>'\n",
              "          + ' to learn more about interactive tables.';\n",
              "        element.innerHTML = '';\n",
              "        dataTable['output_type'] = 'display_data';\n",
              "        await google.colab.output.renderOutput(dataTable, element);\n",
              "        const docLink = document.createElement('div');\n",
              "        docLink.innerHTML = docLinkHtml;\n",
              "        element.appendChild(docLink);\n",
              "      }\n",
              "    </script>\n",
              "  </div>\n",
              "\n",
              "\n",
              "    <div id=\"df-8d4afeee-ce9b-4ede-acd0-ee421019ff79\">\n",
              "      <button class=\"colab-df-quickchart\" onclick=\"quickchart('df-8d4afeee-ce9b-4ede-acd0-ee421019ff79')\"\n",
              "                title=\"Suggest charts\"\n",
              "                style=\"display:none;\">\n",
              "\n",
              "<svg xmlns=\"http://www.w3.org/2000/svg\" height=\"24px\"viewBox=\"0 0 24 24\"\n",
              "     width=\"24px\">\n",
              "    <g>\n",
              "        <path d=\"M19 3H5c-1.1 0-2 .9-2 2v14c0 1.1.9 2 2 2h14c1.1 0 2-.9 2-2V5c0-1.1-.9-2-2-2zM9 17H7v-7h2v7zm4 0h-2V7h2v10zm4 0h-2v-4h2v4z\"/>\n",
              "    </g>\n",
              "</svg>\n",
              "      </button>\n",
              "\n",
              "<style>\n",
              "  .colab-df-quickchart {\n",
              "      --bg-color: #E8F0FE;\n",
              "      --fill-color: #1967D2;\n",
              "      --hover-bg-color: #E2EBFA;\n",
              "      --hover-fill-color: #174EA6;\n",
              "      --disabled-fill-color: #AAA;\n",
              "      --disabled-bg-color: #DDD;\n",
              "  }\n",
              "\n",
              "  [theme=dark] .colab-df-quickchart {\n",
              "      --bg-color: #3B4455;\n",
              "      --fill-color: #D2E3FC;\n",
              "      --hover-bg-color: #434B5C;\n",
              "      --hover-fill-color: #FFFFFF;\n",
              "      --disabled-bg-color: #3B4455;\n",
              "      --disabled-fill-color: #666;\n",
              "  }\n",
              "\n",
              "  .colab-df-quickchart {\n",
              "    background-color: var(--bg-color);\n",
              "    border: none;\n",
              "    border-radius: 50%;\n",
              "    cursor: pointer;\n",
              "    display: none;\n",
              "    fill: var(--fill-color);\n",
              "    height: 32px;\n",
              "    padding: 0;\n",
              "    width: 32px;\n",
              "  }\n",
              "\n",
              "  .colab-df-quickchart:hover {\n",
              "    background-color: var(--hover-bg-color);\n",
              "    box-shadow: 0 1px 2px rgba(60, 64, 67, 0.3), 0 1px 3px 1px rgba(60, 64, 67, 0.15);\n",
              "    fill: var(--button-hover-fill-color);\n",
              "  }\n",
              "\n",
              "  .colab-df-quickchart-complete:disabled,\n",
              "  .colab-df-quickchart-complete:disabled:hover {\n",
              "    background-color: var(--disabled-bg-color);\n",
              "    fill: var(--disabled-fill-color);\n",
              "    box-shadow: none;\n",
              "  }\n",
              "\n",
              "  .colab-df-spinner {\n",
              "    border: 2px solid var(--fill-color);\n",
              "    border-color: transparent;\n",
              "    border-bottom-color: var(--fill-color);\n",
              "    animation:\n",
              "      spin 1s steps(1) infinite;\n",
              "  }\n",
              "\n",
              "  @keyframes spin {\n",
              "    0% {\n",
              "      border-color: transparent;\n",
              "      border-bottom-color: var(--fill-color);\n",
              "      border-left-color: var(--fill-color);\n",
              "    }\n",
              "    20% {\n",
              "      border-color: transparent;\n",
              "      border-left-color: var(--fill-color);\n",
              "      border-top-color: var(--fill-color);\n",
              "    }\n",
              "    30% {\n",
              "      border-color: transparent;\n",
              "      border-left-color: var(--fill-color);\n",
              "      border-top-color: var(--fill-color);\n",
              "      border-right-color: var(--fill-color);\n",
              "    }\n",
              "    40% {\n",
              "      border-color: transparent;\n",
              "      border-right-color: var(--fill-color);\n",
              "      border-top-color: var(--fill-color);\n",
              "    }\n",
              "    60% {\n",
              "      border-color: transparent;\n",
              "      border-right-color: var(--fill-color);\n",
              "    }\n",
              "    80% {\n",
              "      border-color: transparent;\n",
              "      border-right-color: var(--fill-color);\n",
              "      border-bottom-color: var(--fill-color);\n",
              "    }\n",
              "    90% {\n",
              "      border-color: transparent;\n",
              "      border-bottom-color: var(--fill-color);\n",
              "    }\n",
              "  }\n",
              "</style>\n",
              "\n",
              "      <script>\n",
              "        async function quickchart(key) {\n",
              "          const quickchartButtonEl =\n",
              "            document.querySelector('#' + key + ' button');\n",
              "          quickchartButtonEl.disabled = true;  // To prevent multiple clicks.\n",
              "          quickchartButtonEl.classList.add('colab-df-spinner');\n",
              "          try {\n",
              "            const charts = await google.colab.kernel.invokeFunction(\n",
              "                'suggestCharts', [key], {});\n",
              "          } catch (error) {\n",
              "            console.error('Error during call to suggestCharts:', error);\n",
              "          }\n",
              "          quickchartButtonEl.classList.remove('colab-df-spinner');\n",
              "          quickchartButtonEl.classList.add('colab-df-quickchart-complete');\n",
              "        }\n",
              "        (() => {\n",
              "          let quickchartButtonEl =\n",
              "            document.querySelector('#df-8d4afeee-ce9b-4ede-acd0-ee421019ff79 button');\n",
              "          quickchartButtonEl.style.display =\n",
              "            google.colab.kernel.accessAllowed ? 'block' : 'none';\n",
              "        })();\n",
              "      </script>\n",
              "    </div>\n",
              "\n",
              "    </div>\n",
              "  </div>\n"
            ],
            "application/vnd.google.colaboratory.intrinsic+json": {
              "type": "dataframe",
              "variable_name": "df",
              "summary": "{\n  \"name\": \"df\",\n  \"rows\": 15477,\n  \"fields\": [\n    {\n      \"column\": \"Title\",\n      \"properties\": {\n        \"dtype\": \"string\",\n        \"num_unique_values\": 15182,\n        \"samples\": [\n          \"I just have some words to say for my cat, Eunice\",\n          \"I am overcoming my claustrophobia.\",\n          \"Got my bachelors degree and I am starting on my master next week\"\n        ],\n        \"semantic_type\": \"\",\n        \"description\": \"\"\n      }\n    },\n    {\n      \"column\": \"Post\",\n      \"properties\": {\n        \"dtype\": \"string\",\n        \"num_unique_values\": 14230,\n        \"samples\": [\n          \"Edit: Wow! I didn't expect this to get much notice! Thank you all so much for your sweet and encouraging words! I appreciate each and every one of you.\",\n          \"Whenever im alone. I tend to think. When i think i get sad . When i get sad i cry. Then i begin to think again. Why do i think so much. Why do i think so badly of myself. Why do i keep my problems to myself instead of asking for help. \\n\\nI dont wanna think anymore\",\n          \"Can somebody tell me i will be ok? Everyday i'm lethargic and miserable, afraid it will be like that till the end of my life. And i'm so scared of getting my first job. I'm scared i won't do good and that i only will make an idiot of myself. Even if i get it my life won't be better i'm afraid. In the future i want to be a dog groomer, but i probably won't make it. I want to die but i have to live. How i wish i was somebody else, somebody who has basic social skills. I fucking hate myself. Will i ever be ok??\"\n        ],\n        \"semantic_type\": \"\",\n        \"description\": \"\"\n      }\n    },\n    {\n      \"column\": \"Label\",\n      \"properties\": {\n        \"dtype\": \"category\",\n        \"num_unique_values\": 2,\n        \"samples\": [\n          \"Suicidal\",\n          \"Non-Suicidal\"\n        ],\n        \"semantic_type\": \"\",\n        \"description\": \"\"\n      }\n    }\n  ]\n}"
            }
          },
          "metadata": {},
          "execution_count": 7
        }
      ]
    },
    {
      "cell_type": "markdown",
      "source": [
        "# Load Model sentinet/suicidality menerapkan model untuk prediksi label dan confidence pada kolom Title"
      ],
      "metadata": {
        "id": "_MZnhLeLh6FE"
      }
    },
    {
      "cell_type": "code",
      "execution_count": 8,
      "metadata": {
        "colab": {
          "base_uri": "https://localhost:8080/"
        },
        "id": "4ssN4-SaFJs3",
        "outputId": "664d4921-97e8-4412-f302-64f1f4d7d29c"
      },
      "outputs": [
        {
          "output_type": "stream",
          "name": "stderr",
          "text": [
            "Device set to use cuda:0\n"
          ]
        },
        {
          "output_type": "stream",
          "name": "stdout",
          "text": [
            "num_labels: 2\n",
            "id2label: {0: 'LABEL_0', 1: 'LABEL_1'}\n"
          ]
        },
        {
          "output_type": "stream",
          "name": "stderr",
          "text": [
            "/usr/local/lib/python3.12/dist-packages/transformers/pipelines/text_classification.py:111: UserWarning: `return_all_scores` is now deprecated,  if want a similar functionality use `top_k=None` instead of `return_all_scores=True` or `top_k=1` instead of `return_all_scores=False`.\n",
            "  warnings.warn(\n"
          ]
        },
        {
          "output_type": "stream",
          "name": "stdout",
          "text": [
            "Index(['Title', 'Post', 'Label'], dtype='object')\n",
            "\n",
            " File hasil klasifikasi disimpan ke: /content/drive/MyDrive/TugasAkhirElsa/textsuicidal Part 1.csv\n"
          ]
        }
      ],
      "source": [
        "from transformers import AutoTokenizer, AutoModelForSequenceClassification, pipeline\n",
        "import torch\n",
        "\n",
        "# Load Model\n",
        "model_name = \"sentinet/suicidality\"\n",
        "\n",
        "tokenizer = AutoTokenizer.from_pretrained(model_name)\n",
        "model = AutoModelForSequenceClassification.from_pretrained(model_name)\n",
        "\n",
        "print(\"num_labels:\", model.config.num_labels)\n",
        "print(\"id2label:\", model.config.id2label)\n",
        "\n",
        "clf = pipeline(\"text-classification\", model=model, tokenizer=tokenizer, return_all_scores=True)\n",
        "\n",
        "\n",
        "# Baca Dataset\n",
        "df = pd.read_csv('/content/drive/MyDrive/TugasAkhirElsa/Suicidal Ideation Detection Reddit Dataset-Version 2.csv')\n",
        "print(df.columns)\n",
        "\n",
        "# Fungsi Prediksi\n",
        "def predict_suicidal(text):\n",
        "    preds = clf(text)[0]\n",
        "    preds_sorted = sorted(preds, key=lambda x: x['score'], reverse=True)\n",
        "    best = preds_sorted[0]\n",
        "    return best['label'], best['score']\n",
        "\n",
        "\n",
        "# Merapkan untuk Semua Baris (Kolom Tittle)\n",
        "pred_labels = []\n",
        "pred_confidences = []\n",
        "\n",
        "for t in df['Title']:\n",
        "    try:\n",
        "        label, conf = predict_suicidal(str(t))\n",
        "    except Exception as e:\n",
        "        label, conf = \"Error\", 0.0\n",
        "        print(\"Error pada teks:\", t, \"→\", e)\n",
        "    pred_labels.append(label)\n",
        "    pred_confidences.append(conf)\n",
        "\n",
        "df['Predicted_Label'] = pred_labels\n",
        "df['Confidence'] = pred_confidences\n",
        "\n",
        "\n",
        "# Menyimpan ke CSV baru\n",
        "output_path = '/content/drive/MyDrive/TugasAkhirElsa/textsuicidal Part 1.csv'\n",
        "df.to_csv(output_path, index=False)\n",
        "print(f\"\\n File hasil klasifikasi disimpan ke: {output_path}\")\n"
      ]
    },
    {
      "cell_type": "markdown",
      "source": [
        "# Menghapus data dengan label 0 (non-suicidal) dari hasil prediksi dan menyimpan data tersisa ke file baru"
      ],
      "metadata": {
        "id": "aZk6pg3j21D0"
      }
    },
    {
      "cell_type": "code",
      "source": [
        "# Baca file\n",
        "input_path = '/content/drive/MyDrive/TugasAkhirElsa/textsuicidal Part 1.csv'\n",
        "df = pd.read_csv(input_path)\n",
        "\n",
        "# Hapus baris dengan Predicted_Label == 'LABEL_0'\n",
        "filtered_df = df[df['Predicted_Label'] != 'LABEL_0']\n",
        "\n",
        "# Simpan ke file baru\n",
        "output_path = '/content/drive/MyDrive/TugasAkhirElsa/textsuicidal Part 2.csv'\n",
        "filtered_df.to_csv(output_path, index=False)\n",
        "\n",
        "print(f\"File berhasil disimpan ke: {output_path}\")\n",
        "print(f\"Jumlah data sebelum: {len(df)}, sesudah: {len(filtered_df)}\")\n"
      ],
      "metadata": {
        "colab": {
          "base_uri": "https://localhost:8080/"
        },
        "id": "nUzjcTbQH3c8",
        "outputId": "8c170d60-c542-4d55-e815-72c89c66436e"
      },
      "execution_count": 10,
      "outputs": [
        {
          "output_type": "stream",
          "name": "stdout",
          "text": [
            "File berhasil disimpan ke: /content/drive/MyDrive/TugasAkhirElsa/textsuicidal Part 2.csv\n",
            "Jumlah data sebelum: 15477, sesudah: 5509\n"
          ]
        }
      ]
    },
    {
      "cell_type": "markdown",
      "source": [
        "# Sortir / Filter nilai 800 nilai confidance tertinggi"
      ],
      "metadata": {
        "id": "JCAvInko2lSa"
      }
    },
    {
      "cell_type": "code",
      "source": [
        "# Baca file hasil filter\n",
        "df = pd.read_csv('/content/drive/MyDrive/TugasAkhirElsa/textsuicidal Part 2.csv')\n",
        "\n",
        "# Hitung jumlah data dengan Confidence > 0.98\n",
        "count_high_conf = (df['Confidence'] > 0.98).sum()\n",
        "total = len(df)\n",
        "\n",
        "print(f\"Jumlah data dengan Confidence > 0.98: {count_high_conf}\")\n",
        "print(f\"Dari total {total} data ({count_high_conf/total*100:.2f}%)\")\n"
      ],
      "metadata": {
        "colab": {
          "base_uri": "https://localhost:8080/"
        },
        "id": "XJMrKV3NIZXO",
        "outputId": "71b08e04-2b9a-47d5-e678-b0b69ac533a0"
      },
      "execution_count": 12,
      "outputs": [
        {
          "output_type": "stream",
          "name": "stdout",
          "text": [
            "Jumlah data dengan Confidence > 0.98: 2579\n",
            "Dari total 5509 data (46.81%)\n"
          ]
        }
      ]
    },
    {
      "cell_type": "code",
      "source": [
        "# Baca data\n",
        "input_path = '/content/drive/MyDrive/TugasAkhirElsa/textsuicidal Part 2.csv'\n",
        "df = pd.read_csv(input_path)\n",
        "\n",
        "# Mengurutkan nilai condifance (tertinggi ke terendah)\n",
        "df_sorted = df.sort_values(by='Confidence', ascending=False)\n",
        "\n",
        "# 3️Mengambil 800 nilai confidance tertinggi\n",
        "top_800 = df_sorted.head(800)\n",
        "\n",
        "# Menyimpan file\n",
        "output_path = '/content/drive/MyDrive/TugasAkhirElsa/textsuicidal Part 3 .csv'\n",
        "top_800.to_csv(output_path, index=False)\n",
        "print(f\" File hasil (800 data dengan Confidence tertinggi) disimpan ke: {output_path}\")\n",
        "print(f\"Nilai Confidence tertinggi: {top_800['Confidence'].max():.4f}\")\n",
        "print(f\"Nilai Confidence terendah (dari 800 teratas): {top_800['Confidence'].min():.4f}\")\n"
      ],
      "metadata": {
        "colab": {
          "base_uri": "https://localhost:8080/"
        },
        "id": "ZWtxEtBXI7Kn",
        "outputId": "6959b1fe-baec-4422-d3b8-3b70de2fd9af"
      },
      "execution_count": 14,
      "outputs": [
        {
          "output_type": "stream",
          "name": "stdout",
          "text": [
            " File hasil (800 data dengan Confidence tertinggi) disimpan ke: /content/drive/MyDrive/TugasAkhirElsa/textsuicidal Part 3 .csv\n",
            "Nilai Confidence tertinggi: 0.9989\n",
            "Nilai Confidence terendah (dari 800 teratas): 0.9930\n"
          ]
        }
      ]
    }
  ]
}